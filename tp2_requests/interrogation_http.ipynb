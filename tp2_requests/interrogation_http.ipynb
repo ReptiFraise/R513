{
 "cells": [
  {
   "cell_type": "code",
   "execution_count": 2,
   "metadata": {},
   "outputs": [],
   "source": [
    "import requests"
   ]
  },
  {
   "cell_type": "code",
   "execution_count": 26,
   "metadata": {},
   "outputs": [],
   "source": [
    "r = requests.get('http://127.0.0.1:5000')"
   ]
  },
  {
   "cell_type": "code",
   "execution_count": 27,
   "metadata": {},
   "outputs": [
    {
     "name": "stdout",
     "output_type": "stream",
     "text": [
      "\n",
      "\n",
      "<!doctype html>\n",
      "<html>\n",
      "    <head>\n",
      "        <meta charset=\"utf-8\">\n",
      "        <link rel=\"stylesheet\" href=\"https://cdn.jsdelivr.net/npm/bootstrap@5.2.3/dist/css/bootstrap.min.css\">\n",
      "        <title>R5.13-Welcome</title>\n",
      "        <style>\n",
      "            .flash { margin: 5px; padding: 15px; background-color: lightsteelblue;\n",
      "                     color: white; border-radius: 15px; font-weight: bold; }\n",
      "        </style>\n",
      "    </head>\n",
      "<body>\n",
      "    <main class=\"flex-shrink-0\">\n",
      "        <div class=\"container\">\n",
      "        \n",
      "            \n",
      "        \n",
      "        \n",
      "    <h1>Welcome to the BRIDAYM's web server.</h1>\n",
      "\n",
      "        </div>\n",
      "    </main>\n",
      "</body>\n",
      "</html>\n",
      "\n"
     ]
    }
   ],
   "source": [
    "print(r.text)"
   ]
  },
  {
   "cell_type": "code",
   "execution_count": 24,
   "metadata": {},
   "outputs": [],
   "source": [
    "p = requests.get('http://127.0.0.1:5000/private',  auth=('bob', 'sponge'))"
   ]
  },
  {
   "cell_type": "code",
   "execution_count": 28,
   "metadata": {},
   "outputs": [
    {
     "name": "stdout",
     "output_type": "stream",
     "text": [
      "\n",
      "\n",
      "<!doctype html>\n",
      "<html>\n",
      "    <head>\n",
      "        <meta charset=\"utf-8\">\n",
      "        <link rel=\"stylesheet\" href=\"https://cdn.jsdelivr.net/npm/bootstrap@5.2.3/dist/css/bootstrap.min.css\">\n",
      "        <title>R5.13-Welcome</title>\n",
      "        <style>\n",
      "            .flash { margin: 5px; padding: 15px; background-color: lightsteelblue;\n",
      "                     color: white; border-radius: 15px; font-weight: bold; }\n",
      "        </style>\n",
      "    </head>\n",
      "<body>\n",
      "    <main class=\"flex-shrink-0\">\n",
      "        <div class=\"container\">\n",
      "        \n",
      "            \n",
      "        \n",
      "        \n",
      "    <h1>Welcome to the Bob's web server.</h1>\n",
      "\n",
      "        </div>\n",
      "    </main>\n",
      "</body>\n",
      "</html>\n",
      "\n"
     ]
    }
   ],
   "source": [
    "print(p.text)"
   ]
  },
  {
   "cell_type": "code",
   "execution_count": 39,
   "metadata": {},
   "outputs": [
    {
     "name": "stdout",
     "output_type": "stream",
     "text": [
      "\n",
      "    <!doctype html>\n",
      "    <title>Upload new File</title>\n",
      "    <h1>Upload new File</h1>\n",
      "    <form method=post enctype=multipart/form-data>\n",
      "      <input type=file name=file>\n",
      "      <input type=submit value=Upload>\n",
      "    </form>\n",
      "    \n"
     ]
    }
   ],
   "source": [
    "\n",
    "files={'files': open('/home/admin/R513/tp2_requests/filte.txt','rb')}\n",
    "d = requests.get('http://127.0.0.1:5000/upload', files=files)\n",
    "print(d.text)"
   ]
  }
 ],
 "metadata": {
  "kernelspec": {
   "display_name": "Python 3",
   "language": "python",
   "name": "python3"
  },
  "language_info": {
   "codemirror_mode": {
    "name": "ipython",
    "version": 3
   },
   "file_extension": ".py",
   "mimetype": "text/x-python",
   "name": "python",
   "nbconvert_exporter": "python",
   "pygments_lexer": "ipython3",
   "version": "3.6.8"
  }
 },
 "nbformat": 4,
 "nbformat_minor": 2
}
