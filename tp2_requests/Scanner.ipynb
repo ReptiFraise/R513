{
 "cells": [
  {
   "cell_type": "markdown",
   "metadata": {},
   "source": [
    "Scanner Réseau : Tente une connexion sur les ports 5000 à 5001  sur les protocoles http et https."
   ]
  },
  {
   "cell_type": "code",
   "execution_count": 2,
   "metadata": {},
   "outputs": [],
   "source": [
    "import requests\n",
    "import urllib3\n",
    "import time"
   ]
  },
  {
   "cell_type": "markdown",
   "metadata": {},
   "source": [
    "Scan du réseau et afffiche les adresses ip disponibles sur le port 5000 et 5001"
   ]
  },
  {
   "cell_type": "code",
   "execution_count": 3,
   "metadata": {},
   "outputs": [
    {
     "name": "stdout",
     "output_type": "stream",
     "text": [
      "http on 10.1.111.15:5000\n",
      "Welcome to the calvoa's web server.\n",
      "https on 10.1.111.15:5001\n",
      "Welcome to the calvoa's web server.\n"
     ]
    }
   ],
   "source": [
    "urllib3.disable_warnings(urllib3.exceptions.InsecureRequestWarning)\n",
    "for i in range(1,255):\n",
    "    for p in range(5000,5002):\n",
    "        try:\n",
    "            r = requests.get(f\"http://10.1.111.{i}:{p}\", timeout=1)\n",
    "            print(f\"http on 10.1.111.{i}:{p}\")\n",
    "            print(r.text.split(\"<h1>\")[1].split(\"</h1>\")[0])\n",
    "        except:\n",
    "            pass\n",
    "\n",
    "        try:\n",
    "            r = requests.get(f\"https://10.1.111.{i}:{p}\", timeout=1, verify=False)\n",
    "            print(f\"https on 10.1.111.{i}:{p}\")\n",
    "            print(r.text.split(\"<h1>\")[1].split(\"</h1>\")[0])\n",
    "        except:\n",
    "            pass\n",
    "            \n",
    "    \n"
   ]
  }
 ],
 "metadata": {
  "kernelspec": {
   "display_name": "Python 3",
   "language": "python",
   "name": "python3"
  },
  "language_info": {
   "codemirror_mode": {
    "name": "ipython",
    "version": 3
   },
   "file_extension": ".py",
   "mimetype": "text/x-python",
   "name": "python",
   "nbconvert_exporter": "python",
   "pygments_lexer": "ipython3",
   "version": "3.6.8"
  }
 },
 "nbformat": 4,
 "nbformat_minor": 2
}
