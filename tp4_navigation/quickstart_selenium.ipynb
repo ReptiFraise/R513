{
 "cells": [
  {
   "cell_type": "markdown",
   "id": "a1f1e486-60f6-4f87-8237-51c490ccf522",
   "metadata": {},
   "source": [
    "# Prise en main de `selenium`"
   ]
  },
  {
   "cell_type": "markdown",
   "id": "43194506-ad88-4b14-bb80-85b4018e7d96",
   "metadata": {},
   "source": [
    "<div class=\"alert alert-block alert-info\">\n",
    "<bObjectif p:</b>Ce notebook permet de découvrir les commandes de base de la navigation Web pilotée par <code>selenium</code>. Les ⌛ indiquent qu'il peut être nécessaire d'attendre un peu avant d'obtenir le résultat escompté. \n",
    ".</div>"
   ]
  },
  {
   "cell_type": "markdown",
   "id": "e5a16482-8e01-4027-ad8e-29ea3c85d162",
   "metadata": {},
   "source": [
    "## Import des modules"
   ]
  },
  {
   "cell_type": "markdown",
   "id": "f1326c5f-c85b-43fb-b032-aeae1ff93d72",
   "metadata": {},
   "source": [
    "Les modules à importer sont à la fois `selenium`, son `webdriver` et des constantes traduisant le module de recherche des éléments constituant une page (par identifiant, par classe, par règle CSS, ...) :"
   ]
  },
  {
   "cell_type": "code",
   "execution_count": 1,
   "id": "74626993-23be-43c1-b8cc-4df10d992e24",
   "metadata": {},
   "outputs": [],
   "source": [
    "import selenium.webdriver # les pilotes des navigateurs\n",
    "from selenium.webdriver.common.by import By # les modes de recherche des éléments"
   ]
  },
  {
   "cell_type": "markdown",
   "id": "fb6a1751-259a-4b5a-817f-9fdbc37460ab",
   "metadata": {},
   "source": [
    "## Lancement d'un navigateur Web dont la navigation est pilotée par `selenium`"
   ]
  },
  {
   "cell_type": "markdown",
   "id": "44ef9bed-2eb6-42c1-ada5-2d210134f471",
   "metadata": {},
   "source": [
    "Lancez le navigateur Chrome piloté par `selenium` avec : "
   ]
  },
  {
   "cell_type": "code",
   "execution_count": 2,
   "id": "dc6205a5-635d-4bec-9e57-d762d9010c4a",
   "metadata": {},
   "outputs": [],
   "source": [
    "options = selenium.webdriver.ChromeOptions()\n",
    "driver = selenium.webdriver.Chrome(options=options)  "
   ]
  },
  {
   "cell_type": "markdown",
   "id": "84a7b951-ea1f-4344-b5c5-31254179335b",
   "metadata": {},
   "source": [
    "⌛ Une instance de Chrome portant la mention _Chrome est contrôlé par un logiciel de test automatisé_ s'ouvre. Elle peut être manipulée indifféremment : \n",
    "* par le code (cf. suite du notebook) \n",
    "* par vos actions-utilisateur usuelles (clic de souris, saisie de texte, icônes de navigations, outils de développement, ...)"
   ]
  },
  {
   "cell_type": "markdown",
   "id": "b2db9098-be95-4956-8b44-431b984eb082",
   "metadata": {},
   "source": [
    "🛟 Pour la suite, affichez à l'écran **en parallèle** l'instance de Chrome ouverte et ce notebook."
   ]
  },
  {
   "cell_type": "markdown",
   "id": "0fcce412-c889-47d5-8e47-ba2a783a6f8c",
   "metadata": {},
   "source": [
    "## Chargement d'une page"
   ]
  },
  {
   "cell_type": "markdown",
   "id": "f9c6435b-5eaf-49ac-b277-ec44ebef49d9",
   "metadata": {},
   "source": [
    "Pour charger une page à partir de son URL (ici le site de l'IUT1) :"
   ]
  },
  {
   "cell_type": "code",
   "execution_count": 3,
   "id": "ee054fa7-31c0-4138-a3b8-9afe02c421fb",
   "metadata": {},
   "outputs": [],
   "source": [
    "url = \"https://iut1.univ-grenoble-alpes.fr/\"\n",
    "driver.get(url)"
   ]
  },
  {
   "cell_type": "markdown",
   "id": "0dd88aef-7d5e-44d8-9a32-df91f88c9519",
   "metadata": {},
   "source": [
    "👓 Vous constaterez que l'instance de Chrome affiche le site de l'IUT, comme si un utilisateur avait saisi l'url et avait validé sa requête. "
   ]
  },
  {
   "cell_type": "markdown",
   "id": "76ebfd02-d12a-4ff2-abe7-dea159771de8",
   "metadata": {},
   "source": [
    "## Accèder à un élément Web"
   ]
  },
  {
   "cell_type": "markdown",
   "id": "a03b77e5-4a6f-4500-9809-57aa97dd003f",
   "metadata": {},
   "source": [
    "Le site de l'IUT utilisant des cookies, un bandeau d'acceptation apparait (gênant pour voir le contenu de la page). Il est possible (par le code) d'interagir le bouton `Accepter tous les cookies` pour s'en débarrasser en simulant ce qu'aurait fait un utilisateur : \"cliquer dessus\". "
   ]
  },
  {
   "cell_type": "markdown",
   "id": "64e88bc5-5a41-4b94-93a9-c535690fd6b1",
   "metadata": {},
   "source": [
    "### Accès par un identifiant\n",
    "\n",
    "🔍 Cherchez (en éditant les outils de développement dans le _Chrome_ piloté par `selenium` et en utilisant l'outil _Inspecter_) l'identifiant (`id`) du bouton. "
   ]
  },
  {
   "cell_type": "markdown",
   "id": "26d0469d-68b7-4d07-986f-55d625d2f613",
   "metadata": {},
   "source": [
    "Pour récupérer l'élement (de type `selenium.WebElement`) associé à ce bouton par son identifiant (`By.ID`), utilisez (après avoir remplacé `identifiant_recherche` par l'identifiant trouvé plus haut) : "
   ]
  },
  {
   "cell_type": "code",
   "execution_count": 4,
   "id": "b31575b3-73da-4b37-9e6c-3c18ac071a5b",
   "metadata": {},
   "outputs": [
    {
     "name": "stdout",
     "output_type": "stream",
     "text": [
      "<selenium.webdriver.remote.webelement.WebElement (session=\"97f689c21c99f9d0b38bd2838451754f\", element=\"09a032e0-9042-4b37-9b01-94047fc56d35\")>\n"
     ]
    }
   ],
   "source": [
    "# ici le code\n",
    "bouton = driver.find_element(By.ID, \"tarteaucitronPersonalize2\")\n",
    "print(bouton)"
   ]
  },
  {
   "cell_type": "markdown",
   "id": "17cbc593-59e4-4777-bedb-cace8f523d29",
   "metadata": {},
   "source": [
    "Différentes informations peuvent être récupérées :"
   ]
  },
  {
   "cell_type": "code",
   "execution_count": 5,
   "id": "43e4e8bc-bf8b-42e6-8111-4466b12403de",
   "metadata": {},
   "outputs": [
    {
     "name": "stdout",
     "output_type": "stream",
     "text": [
      "Contenu -> ACCEPTER TOUS LES COOKIES\n",
      "Classes -> tarteaucitronCTAButton tarteaucitronAllow\n"
     ]
    }
   ],
   "source": [
    "# Contenu textuel du bouton (incluant les données des balises encapsulées)\n",
    "print(\"Contenu ->\", bouton.text)\n",
    "# Attributs du bouton, par exemple\n",
    "print(\"Classes ->\", bouton.get_attribute(\"class\"))"
   ]
  },
  {
   "cell_type": "markdown",
   "id": "ea48d176-e06c-4d3d-a38d-d9af35bcf1a4",
   "metadata": {},
   "source": [
    "Cliquez par le code sur le bouton avec : "
   ]
  },
  {
   "cell_type": "code",
   "execution_count": 6,
   "id": "401842cc-6473-4b69-b0e9-1e2f90e2bbde",
   "metadata": {},
   "outputs": [],
   "source": [
    "bouton.click()"
   ]
  },
  {
   "cell_type": "markdown",
   "id": "b89ee1fe-a04d-4fb8-aec0-e2ff2c9e0fcf",
   "metadata": {},
   "source": [
    "👓 Le navigateur a exécuté vos actions, comme un utilisateur l'aurait fait manuellement"
   ]
  },
  {
   "cell_type": "markdown",
   "id": "712e3888-912f-4b17-bd38-d871aed46b5a",
   "metadata": {},
   "source": [
    "### Accès par classe, règles css "
   ]
  },
  {
   "cell_type": "markdown",
   "id": "98406f79-5fa0-41d7-9342-be48550eaacd",
   "metadata": {},
   "source": [
    "`selenium` permet de récupérer plusieurs éléments avec : \n",
    "\n",
    "```python\n",
    "liste_elements = driver.find_elements(mode_recherche, \"descripteur de la recherche\")\n",
    "```\n",
    "\n",
    "Différents _modes de recherche_ peuvent être utilisés (en plus de `By.ID` vu précédemment) : \n",
    "\n",
    "* par classe avec `By.CLASS_NAME`\n",
    "* par règles CSS avec `By.CSS_SELECTOR`"
   ]
  },
  {
   "cell_type": "markdown",
   "id": "15b08068-f5b9-49c2-accb-4c42426ecaed",
   "metadata": {},
   "source": [
    "❓Dans la cellule qui suit, écrivez le code qui : \n",
    "\n",
    "* recherche les titres des 4 actualités du portail de l'IUT (texte bleu en dessous de chaque image), en effectuant une recherche par classe,\n",
    "* affiche sur la console le texte du titre et le lien (attribut `href`) vers lequel il pointe,\n",
    "* stocke les liens obtenus dans une liste `liens`.\n",
    "\n",
    "**Attention** : seul les liens des 4 actus (et non ceux de l'agenda devront être affichés)"
   ]
  },
  {
   "cell_type": "code",
   "execution_count": 13,
   "id": "f02397a7-260d-415a-93d3-eea743e19b06",
   "metadata": {},
   "outputs": [
    {
     "name": "stdout",
     "output_type": "stream",
     "text": [
      "BUT : calendrier des candidatures 2024 https://iut1.univ-grenoble-alpes.fr/iut1/candidature-en-but-196864.kjsp?RH=6044288375922512\n",
      "Nos formations pour la prochaine rentrée https://iut1.univ-grenoble-alpes.fr/iut1/nos-formations-pour-la-prochaine-rentree-1321419.kjsp?RH=6044288375922512\n",
      "L'IUT1 sera présent au Salon de l'Étudiant 2023 https://iut1.univ-grenoble-alpes.fr/iut1/l-iut1-sera-present-au-salon-de-l-etudiant-2023-1287479.kjsp?RH=6044288375922512\n",
      "Alternance en BUT2 GMP : les étudiants rencontrent les entreprises https://iut1.univ-grenoble-alpes.fr/iut1/alternance-en-but2-gmp-les-etudiants-rencontrent-les-entreprises-1304455.kjsp?RH=6044288375922512\n",
      "L'IUT1 sera présent au Salon de l'Étudiant 2023 https://iut1.univ-grenoble-alpes.fr/evenements-/l-iut1-sera-present-au-salon-de-l-etudiant-2023-1287479.kjsp\n",
      "Save the date ! Journée Portes Ouvertes IUT1 2024 https://iut1.univ-grenoble-alpes.fr/evenements-/save-the-date-journee-portes-ouvertes-iut1-2024-1321992.kjsp\n"
     ]
    }
   ],
   "source": [
    "# ici le code\n",
    "liste_actus = driver.find_elements(By.CLASS_NAME, 'liste__objets__titre')\n",
    "liens = []\n",
    "for actu in liste_actus:\n",
    "    print(actu.text + \" \" + actu.get_attribute('href'))\n",
    "    liens.append(actu.get_attribute('href'))\n",
    "    "
   ]
  },
  {
   "cell_type": "markdown",
   "id": "d6ee52b4-1e4b-49d4-b72e-692b80f53c17",
   "metadata": {},
   "source": [
    "### Accès par XPATH"
   ]
  },
  {
   "cell_type": "markdown",
   "id": "049f1670-405b-4383-8963-d6f4f0928b22",
   "metadata": {},
   "source": [
    "Trouvez le sélecteur adéquat (id, class, css) surtout pour les sites dynamiques peut vite devenir une gajeure ! `selenium` propose une recherche bien plus efficace : par **XPATH**.\n",
    "\n",
    "<div class=\"alert alert-warning\">\n",
    "🔍 XPath (<i>XML Path Language</i>) est un langage de requête permettant de sélectionner efficacement des éléments dans des documents XML, en s'appuyant sur le DOM (<i>Document Object Model</i>) donc sur l'arborescence des balises du document. Sa syntaxe s'appare à celle des chemins dans les systèmes de fichier (jokers et expressions régulières compris). Voir <a href=\"https://www.w3schools.com/xml/xpath_syntax.asp\">https://www.w3schools.com/xml/xpath_syntax.asp</a> pour une documentation complète.\n",
    "</div>"
   ]
  },
  {
   "cell_type": "markdown",
   "id": "04958289-7ef0-45e0-9ca3-5ab9664b5664",
   "metadata": {},
   "source": [
    "#### XPATH d'un élément cible"
   ]
  },
  {
   "cell_type": "markdown",
   "id": "4d864dec-cb92-477c-9284-d4a642841296",
   "metadata": {},
   "source": [
    "🔍 Pour obtenir le XPath d'un élément cible de l'IUT : \n",
    "\n",
    "* Pointez l'élément avec les outils de développement de Chrome\n",
    "* Sélectionnez le code source de l'élément dans l'onglet `Elements` des outils de développement → clic droit → _Copy_ → _Copy XPath_\n",
    "* Collez le XPath copié dans n'importe quel éditeur de texte pour l'utiliser par la suite"
   ]
  },
  {
   "cell_type": "markdown",
   "id": "df69e2a0-9c43-4607-86cc-870dbb4cbb24",
   "metadata": {},
   "source": [
    "❓Faites cette manip avec la 1ère actu du site Web de l'IUT et copiez-le XPath dans la cellule qui suit. Vous devriez obtenir : `//*[@id=\"contenu_sans_nav_sans_encadres\"]/div/div/div[3]/div/div[2]/div[1]/div/ul/li[1]/div[2]/em/a`"
   ]
  },
  {
   "cell_type": "code",
   "execution_count": 44,
   "id": "4463099c-8683-4a26-ae3f-0160da65a52f",
   "metadata": {},
   "outputs": [],
   "source": [
    "XPath = '/html/body/main/div/div[1]/div/div/div/div[3]/div/div[2]/div[1]/div/ul/li[2]/div[2]/em/a'"
   ]
  },
  {
   "cell_type": "markdown",
   "id": "1549b803-ddf0-4477-9832-18ea36be41a2",
   "metadata": {},
   "source": [
    "👓 Le XPath décrit finalement la succession des noeuds (au sens de l'arborescence des balises) partant de la racine du document (`//`) et amenant (ordre de déclaration `[i]` dans l'arborescence à l'appui) la position du noeud/élément visé."
   ]
  },
  {
   "cell_type": "markdown",
   "id": "863e1ca8-9025-43ea-81ac-d76e275bc1ea",
   "metadata": {},
   "source": [
    "❓En vous aidant de https://www.w3schools.com/xml/xpath_syntax.asp, réécrivez le code affichant les titres et les liens des 4 actus du portail de l'IUT en utilisant une recherche par **XPath**. "
   ]
  },
  {
   "cell_type": "code",
   "execution_count": 51,
   "id": "7daf6168-3060-48ba-8547-2caa98b55376",
   "metadata": {},
   "outputs": [
    {
     "name": "stdout",
     "output_type": "stream",
     "text": [
      "BUT : calendrier des candidatures 2024 https://iut1.univ-grenoble-alpes.fr/iut1/candidature-en-but-196864.kjsp?RH=6044288375922512\n",
      "Nos formations pour la prochaine rentrée https://iut1.univ-grenoble-alpes.fr/iut1/nos-formations-pour-la-prochaine-rentree-1321419.kjsp?RH=6044288375922512\n",
      "L'IUT1 sera présent au Salon de l'Étudiant 2023 https://iut1.univ-grenoble-alpes.fr/iut1/l-iut1-sera-present-au-salon-de-l-etudiant-2023-1287479.kjsp?RH=6044288375922512\n",
      "Alternance en BUT2 GMP : les étudiants rencontrent les entreprises https://iut1.univ-grenoble-alpes.fr/iut1/alternance-en-but2-gmp-les-etudiants-rencontrent-les-entreprises-1304455.kjsp?RH=6044288375922512\n"
     ]
    }
   ],
   "source": [
    "# ici le code\n",
    "for i in range(1,5):\n",
    "    XPath = f'/html/body/main/div/div[1]/div/div/div/div[3]/div/div[2]/div[1]/div/ul/li[{i}]/div[2]/em/a'\n",
    "    actu = driver.find_element(By.XPATH, XPath)\n",
    "    print(f\"{actu.text} {actu.get_attribute('href')}\")"
   ]
  },
  {
   "cell_type": "markdown",
   "id": "d3829175-c2ef-42bd-bfb1-9d579bef69ba",
   "metadata": {},
   "source": [
    "## Navigation"
   ]
  },
  {
   "cell_type": "markdown",
   "id": "e89304a8-c059-4c82-b5d2-31e5e2aa2545",
   "metadata": {},
   "source": [
    "Nous allons naviguer vers la 1ère actualité du site de l'IUT. Si vos codes précédents sont correctes, elle est à l'URL :"
   ]
  },
  {
   "cell_type": "code",
   "execution_count": 52,
   "id": "922da4ad-5dd2-4725-8c3c-59eaae1bf160",
   "metadata": {},
   "outputs": [
    {
     "name": "stdout",
     "output_type": "stream",
     "text": [
      "1ère actu: https://iut1.univ-grenoble-alpes.fr/iut1/candidature-en-but-196864.kjsp?RH=6044288375922512\n"
     ]
    }
   ],
   "source": [
    "url_actu1 = liens[0]\n",
    "print(\"1ère actu:\", url_actu1)"
   ]
  },
  {
   "cell_type": "markdown",
   "id": "0c35cb79-4bfc-4601-a9ce-7187e93bebe8",
   "metadata": {},
   "source": [
    "Il suffit donc, pour s'y rendre, d'exécuter :  "
   ]
  },
  {
   "cell_type": "code",
   "execution_count": 63,
   "id": "8bb4e8ac-a33c-4bb8-8fe1-04cff206eb3e",
   "metadata": {},
   "outputs": [],
   "source": [
    "driver.get(url_actu1)"
   ]
  },
  {
   "cell_type": "markdown",
   "id": "f0327069-2346-42a1-a401-bf9c46da4470",
   "metadata": {},
   "source": [
    "⌛👓 Le navigateur doit maintenant éditer la 1ère actu."
   ]
  },
  {
   "cell_type": "markdown",
   "id": "378a05a1-fa9d-4e24-97e2-064051ad8e40",
   "metadata": {},
   "source": [
    "❓Identifiez les Xpath du titre et du sous-titre (texte blanc sur fond noir) de l'actu. Ecrivez le code qui les récupère par leur XPath, les stocke dans un dictionnaire de la forme \n",
    "```python\n",
    "{\"titre\": <le_titre>, \n",
    " \"sous-titre\": <le_sous-titre>}\n",
    "```\n",
    "puis les affiche sur la console."
   ]
  },
  {
   "cell_type": "code",
   "execution_count": 64,
   "id": "917b9859-6eff-42ff-a682-51b94f761f6b",
   "metadata": {},
   "outputs": [
    {
     "ename": "NoSuchElementException",
     "evalue": "Message: no such element: Unable to locate element: {\"method\":\"xpath\",\"selector\":\"/html/body/main/div[2]/div[1]/div[1]/div[2]/div/span\"}\n  (Session info: chrome=93.0.4577.63)\n",
     "output_type": "error",
     "traceback": [
      "\u001b[0;31m---------------------------------------------------------------------------\u001b[0m",
      "\u001b[0;31mNoSuchElementException\u001b[0m                    Traceback (most recent call last)",
      "\u001b[0;32m<ipython-input-64-a302ff98af6a>\u001b[0m in \u001b[0;36m<module>\u001b[0;34m\u001b[0m\n\u001b[1;32m      5\u001b[0m     \u001b[0mXPathST\u001b[0m \u001b[0;34m=\u001b[0m \u001b[0;34mf'/html/body/main/div[2]/div[1]/div[1]/div[2]/div/span'\u001b[0m\u001b[0;34m\u001b[0m\u001b[0;34m\u001b[0m\u001b[0m\n\u001b[1;32m      6\u001b[0m     \u001b[0mtitre\u001b[0m \u001b[0;34m=\u001b[0m \u001b[0mdriver\u001b[0m\u001b[0;34m.\u001b[0m\u001b[0mfind_element\u001b[0m\u001b[0;34m(\u001b[0m\u001b[0mBy\u001b[0m\u001b[0;34m.\u001b[0m\u001b[0mXPATH\u001b[0m\u001b[0;34m,\u001b[0m \u001b[0mXPathT\u001b[0m\u001b[0;34m)\u001b[0m\u001b[0;34m\u001b[0m\u001b[0;34m\u001b[0m\u001b[0m\n\u001b[0;32m----> 7\u001b[0;31m     \u001b[0msous_titre\u001b[0m \u001b[0;34m=\u001b[0m \u001b[0mdriver\u001b[0m\u001b[0;34m.\u001b[0m\u001b[0mfind_element\u001b[0m\u001b[0;34m(\u001b[0m\u001b[0mBy\u001b[0m\u001b[0;34m.\u001b[0m\u001b[0mXPATH\u001b[0m\u001b[0;34m,\u001b[0m \u001b[0mXPathST\u001b[0m\u001b[0;34m)\u001b[0m\u001b[0;34m\u001b[0m\u001b[0;34m\u001b[0m\u001b[0m\n\u001b[0m\u001b[1;32m      8\u001b[0m     \u001b[0mdico\u001b[0m\u001b[0;34m[\u001b[0m\u001b[0;34m\"titre\"\u001b[0m\u001b[0;34m]\u001b[0m \u001b[0;34m=\u001b[0m \u001b[0mtitre\u001b[0m\u001b[0;34m.\u001b[0m\u001b[0mtext\u001b[0m\u001b[0;34m\u001b[0m\u001b[0;34m\u001b[0m\u001b[0m\n\u001b[1;32m      9\u001b[0m     \u001b[0mdico\u001b[0m\u001b[0;34m[\u001b[0m\u001b[0;34m\"sous-titre\"\u001b[0m\u001b[0;34m]\u001b[0m \u001b[0;34m=\u001b[0m \u001b[0msous_titre\u001b[0m\u001b[0;34m.\u001b[0m\u001b[0mtext\u001b[0m\u001b[0;34m\u001b[0m\u001b[0;34m\u001b[0m\u001b[0m\n",
      "\u001b[0;32m~/R513/.venv/lib64/python3.6/site-packages/selenium/webdriver/remote/webdriver.py\u001b[0m in \u001b[0;36mfind_element\u001b[0;34m(self, by, value)\u001b[0m\n\u001b[1;32m    976\u001b[0m         return self.execute(Command.FIND_ELEMENT, {\n\u001b[1;32m    977\u001b[0m             \u001b[0;34m'using'\u001b[0m\u001b[0;34m:\u001b[0m \u001b[0mby\u001b[0m\u001b[0;34m,\u001b[0m\u001b[0;34m\u001b[0m\u001b[0;34m\u001b[0m\u001b[0m\n\u001b[0;32m--> 978\u001b[0;31m             'value': value})['value']\n\u001b[0m\u001b[1;32m    979\u001b[0m \u001b[0;34m\u001b[0m\u001b[0m\n\u001b[1;32m    980\u001b[0m     \u001b[0;32mdef\u001b[0m \u001b[0mfind_elements\u001b[0m\u001b[0;34m(\u001b[0m\u001b[0mself\u001b[0m\u001b[0;34m,\u001b[0m \u001b[0mby\u001b[0m\u001b[0;34m=\u001b[0m\u001b[0mBy\u001b[0m\u001b[0;34m.\u001b[0m\u001b[0mID\u001b[0m\u001b[0;34m,\u001b[0m \u001b[0mvalue\u001b[0m\u001b[0;34m=\u001b[0m\u001b[0;32mNone\u001b[0m\u001b[0;34m)\u001b[0m\u001b[0;34m:\u001b[0m\u001b[0;34m\u001b[0m\u001b[0;34m\u001b[0m\u001b[0m\n",
      "\u001b[0;32m~/R513/.venv/lib64/python3.6/site-packages/selenium/webdriver/remote/webdriver.py\u001b[0m in \u001b[0;36mexecute\u001b[0;34m(self, driver_command, params)\u001b[0m\n\u001b[1;32m    319\u001b[0m         \u001b[0mresponse\u001b[0m \u001b[0;34m=\u001b[0m \u001b[0mself\u001b[0m\u001b[0;34m.\u001b[0m\u001b[0mcommand_executor\u001b[0m\u001b[0;34m.\u001b[0m\u001b[0mexecute\u001b[0m\u001b[0;34m(\u001b[0m\u001b[0mdriver_command\u001b[0m\u001b[0;34m,\u001b[0m \u001b[0mparams\u001b[0m\u001b[0;34m)\u001b[0m\u001b[0;34m\u001b[0m\u001b[0;34m\u001b[0m\u001b[0m\n\u001b[1;32m    320\u001b[0m         \u001b[0;32mif\u001b[0m \u001b[0mresponse\u001b[0m\u001b[0;34m:\u001b[0m\u001b[0;34m\u001b[0m\u001b[0;34m\u001b[0m\u001b[0m\n\u001b[0;32m--> 321\u001b[0;31m             \u001b[0mself\u001b[0m\u001b[0;34m.\u001b[0m\u001b[0merror_handler\u001b[0m\u001b[0;34m.\u001b[0m\u001b[0mcheck_response\u001b[0m\u001b[0;34m(\u001b[0m\u001b[0mresponse\u001b[0m\u001b[0;34m)\u001b[0m\u001b[0;34m\u001b[0m\u001b[0;34m\u001b[0m\u001b[0m\n\u001b[0m\u001b[1;32m    322\u001b[0m             response['value'] = self._unwrap_value(\n\u001b[1;32m    323\u001b[0m                 response.get('value', None))\n",
      "\u001b[0;32m~/R513/.venv/lib64/python3.6/site-packages/selenium/webdriver/remote/errorhandler.py\u001b[0m in \u001b[0;36mcheck_response\u001b[0;34m(self, response)\u001b[0m\n\u001b[1;32m    240\u001b[0m                 \u001b[0malert_text\u001b[0m \u001b[0;34m=\u001b[0m \u001b[0mvalue\u001b[0m\u001b[0;34m[\u001b[0m\u001b[0;34m'alert'\u001b[0m\u001b[0;34m]\u001b[0m\u001b[0;34m.\u001b[0m\u001b[0mget\u001b[0m\u001b[0;34m(\u001b[0m\u001b[0;34m'text'\u001b[0m\u001b[0;34m)\u001b[0m\u001b[0;34m\u001b[0m\u001b[0;34m\u001b[0m\u001b[0m\n\u001b[1;32m    241\u001b[0m             \u001b[0;32mraise\u001b[0m \u001b[0mexception_class\u001b[0m\u001b[0;34m(\u001b[0m\u001b[0mmessage\u001b[0m\u001b[0;34m,\u001b[0m \u001b[0mscreen\u001b[0m\u001b[0;34m,\u001b[0m \u001b[0mstacktrace\u001b[0m\u001b[0;34m,\u001b[0m \u001b[0malert_text\u001b[0m\u001b[0;34m)\u001b[0m\u001b[0;34m\u001b[0m\u001b[0;34m\u001b[0m\u001b[0m\n\u001b[0;32m--> 242\u001b[0;31m         \u001b[0;32mraise\u001b[0m \u001b[0mexception_class\u001b[0m\u001b[0;34m(\u001b[0m\u001b[0mmessage\u001b[0m\u001b[0;34m,\u001b[0m \u001b[0mscreen\u001b[0m\u001b[0;34m,\u001b[0m \u001b[0mstacktrace\u001b[0m\u001b[0;34m)\u001b[0m\u001b[0;34m\u001b[0m\u001b[0;34m\u001b[0m\u001b[0m\n\u001b[0m\u001b[1;32m    243\u001b[0m \u001b[0;34m\u001b[0m\u001b[0m\n\u001b[1;32m    244\u001b[0m     \u001b[0;32mdef\u001b[0m \u001b[0m_value_or_default\u001b[0m\u001b[0;34m(\u001b[0m\u001b[0mself\u001b[0m\u001b[0;34m,\u001b[0m \u001b[0mobj\u001b[0m\u001b[0;34m,\u001b[0m \u001b[0mkey\u001b[0m\u001b[0;34m,\u001b[0m \u001b[0mdefault\u001b[0m\u001b[0;34m)\u001b[0m\u001b[0;34m:\u001b[0m\u001b[0;34m\u001b[0m\u001b[0;34m\u001b[0m\u001b[0m\n",
      "\u001b[0;31mNoSuchElementException\u001b[0m: Message: no such element: Unable to locate element: {\"method\":\"xpath\",\"selector\":\"/html/body/main/div[2]/div[1]/div[1]/div[2]/div/span\"}\n  (Session info: chrome=93.0.4577.63)\n"
     ]
    }
   ],
   "source": [
    "# ici le code\n",
    "dico = {}\n",
    "for i in range(1,5):\n",
    "    XPathT = f'/html/body/main/div[2]/div[1]/div[1]/h1'\n",
    "    XPathST = f'/html/body/main/div[2]/div[1]/div[1]/div[2]/div/span'\n",
    "    titre = driver.find_element(By.XPATH, XPathT)\n",
    "    sous_titre = driver.find_element(By.XPATH, XPathST)\n",
    "    dico[\"titre\"] = titre.text\n",
    "    dico[\"sous-titre\"] = sous_titre.text\n",
    "print(dico)"
   ]
  },
  {
   "cell_type": "markdown",
   "id": "a08eb660-1d85-4eca-827f-908ebef462b0",
   "metadata": {},
   "source": [
    "## Crawling"
   ]
  },
  {
   "cell_type": "markdown",
   "id": "84b592d3-1b0b-48d5-ab8b-d9fa0be329ce",
   "metadata": {},
   "source": [
    "❓Déplacez le navigateur sur la page de la 2ème actualité."
   ]
  },
  {
   "cell_type": "code",
   "execution_count": 66,
   "id": "081b5a70-71ff-48ab-82d8-f2e8bdccd239",
   "metadata": {},
   "outputs": [
    {
     "name": "stdout",
     "output_type": "stream",
     "text": [
      "{'titre': 'Nos formations pour la prochaine rentrée', 'sous-titre': 'Documentation, Formation'}\n"
     ]
    }
   ],
   "source": [
    "# ici le code\n",
    "driver.get(liens[1])\n"
   ]
  },
  {
   "cell_type": "markdown",
   "id": "ffc31172-9c04-470e-b036-35190e9ab8a6",
   "metadata": {},
   "source": [
    "<div class=\"alert alert-warning\">\n",
    "Les actu étant théoriquement toutes structurées de la même façon (merci les systèmes de gestion de contenu type Wordpress 😃), le code de récupération du titre et du résumé de la 2ème actu doit rester valable (avec les même XPath _relatifs_). \n",
    "</div>\n",
    "\n",
    "❓Testez en dupliquant le code dans la cellule qui suit."
   ]
  },
  {
   "cell_type": "code",
   "execution_count": 67,
   "id": "2805c884-65a5-4e17-8740-f3f1ab1f06d2",
   "metadata": {},
   "outputs": [
    {
     "name": "stdout",
     "output_type": "stream",
     "text": [
      "{'titre': 'Nos formations pour la prochaine rentrée', 'sous-titre': 'Documentation, Formation'}\n"
     ]
    }
   ],
   "source": [
    "# ici le code\n",
    "dico = {}\n",
    "for i in range(1,5):\n",
    "    XPathT = f'/html/body/main/div[2]/div[1]/div[1]/h1'\n",
    "    XPathST = f'/html/body/main/div[2]/div[1]/div[1]/div[2]/div/span'\n",
    "    titre = driver.find_element(By.XPATH, XPathT)\n",
    "    sous_titre = driver.find_element(By.XPATH, XPathST)\n",
    "    dico[\"titre\"] = titre.text\n",
    "    dico[\"sous-titre\"] = sous_titre.text\n",
    "print(dico)"
   ]
  },
  {
   "cell_type": "markdown",
   "id": "5b1daaef-9558-488d-bf9d-4994882a4207",
   "metadata": {},
   "source": [
    "## Fermer la navigateur"
   ]
  },
  {
   "cell_type": "markdown",
   "id": "7908cc2c-e8e7-4792-89c3-52bf609d3992",
   "metadata": {},
   "source": [
    "Fermer proprement votre navigateur avec : "
   ]
  },
  {
   "cell_type": "code",
   "execution_count": 68,
   "id": "fd6b6f5a-c54b-4224-a5f9-d0e501797086",
   "metadata": {},
   "outputs": [],
   "source": [
    "driver.quit()"
   ]
  },
  {
   "cell_type": "markdown",
   "id": "6a864f67-9e19-47b3-a991-1bf8a152b654",
   "metadata": {},
   "source": [
    "⛐ Revenez au sujet de TP."
   ]
  }
 ],
 "metadata": {
  "kernelspec": {
   "display_name": "Python 3 (ipykernel)",
   "language": "python",
   "name": "python3"
  },
  "language_info": {
   "codemirror_mode": {
    "name": "ipython",
    "version": 3
   },
   "file_extension": ".py",
   "mimetype": "text/x-python",
   "name": "python",
   "nbconvert_exporter": "python",
   "pygments_lexer": "ipython3",
   "version": "3.6.8"
  }
 },
 "nbformat": 4,
 "nbformat_minor": 5
}
